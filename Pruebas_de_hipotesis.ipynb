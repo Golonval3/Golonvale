{
 "cells": [
  {
   "cell_type": "markdown",
   "metadata": {},
   "source": [
    "## 1. Evaluar juicios de hipótesis\n",
    "\n",
    "A continuación se presenta una serie de enunciados de hipótesis. Usted debe discernir si es posible rechazar la hipótesis nula.\n",
    "\n",
    "1.- 75 individuos elegidos al azar fueron alcanzados por activistas pro-LGTB que se identificaron como homosexuales, y 75 alcanzados por activistas pro-LGTB que se identificaron como heterosexuales. El objetivo era medir actitudes frente a la adopción homoparentales. La organización encargada de procesar los datos obtuvo los siguientes resultados:\n",
    "  - El 67% de los encuestados por heterosexuales se mostró a favor de la adopción homoparental, mientras que un 72% de los encuestados por activistas que se identifaron como homosexuales se mostraron a favor de la adopción homoparental.\n",
    "  - Asumiendo que la hipótesis nula es que ambos porcentajes no son diferentes, y la hipótesis alternativa es que existe una diferencia substancial entre ambos.\n",
    "  - Con un valor de prueba y un puntaje de corte de 2.58, ¿qué se debe concluir?\n",
    "  \n",
    "Considerando un intervalo de confianza del 5%"
   ]
  },
  {
   "cell_type": "markdown",
   "metadata": {},
   "source": [
    "2.- Un investigador de la Sociedad de Abstemios de Chile sugiere que los hombres tienen mayores niveles de consumo de alcohol que las mujeres, siendo esta diferencia estadísticamente significativa. Esto en base a su estudio realizado con 48 individuos, donde contrastó su puntaje de prueba a una distribución asintóticamente normal. ¿Qué se puede decir sobre su estudio?\n",
    "\n",
    "Se debe hacer un estudio de la muestra. Esto porque si consideramos la hipótesis nula:\n",
    "- H0: Consumo hombres >= Consumo mujeres\n",
    "- H1: Consumo hombres < Consumo mujeres\n",
    "pero M=Ch + Cm = 48, y no podemos saber de cuánto es el valor de la submuestra, por lo tanto se debe utilizar el estudio de la t-student\n"
   ]
  },
  {
   "cell_type": "markdown",
   "metadata": {},
   "source": [
    "## 2. Importe la base de datos utilizada la sesión presencial anterior\n",
    "\n",
    "- Agrege una serie de variables binarias por cada continente de la variable region.\n",
    "   - tip: Utilice np.where para ello.\n",
    "- De manera similar a la sesión anterior, enfóquese en las siguientes variables:\n",
    "   - Apellidos desde la A hasta la N: Enfocarse en las variables chldmort , adfert y life .\n",
    "   - Apellidos desde la N hasta la Z: Enfocarse en las variables femlab , literacy y school ."
   ]
  },
  {
   "cell_type": "code",
   "execution_count": 11,
   "metadata": {},
   "outputs": [],
   "source": [
    "import pandas as pd\n",
    "import numpy as np\n",
    "import matplotlib.pyplot as plt\n",
    "import scipy.stats as stats\n",
    "import seaborn as sns\n",
    "import warnings\n",
    "warnings.filterwarnings(action='ignore')\n",
    "plt.style.use('seaborn')\n",
    "plt.rcParams['figure.figsize']=(6,4)\n",
    "#plt.rcParams['figure.dpi']=100"
   ]
  },
  {
   "cell_type": "code",
   "execution_count": 12,
   "metadata": {},
   "outputs": [
    {
     "data": {
      "text/plain": [
       "Index(['Unnamed: 0', 'country', 'region', 'gdp', 'school', 'adfert',\n",
       "       'chldmort', 'life', 'pop', 'urban', 'femlab', 'literacy', 'co2',\n",
       "       'gini'],\n",
       "      dtype='object')"
      ]
     },
     "execution_count": 12,
     "metadata": {},
     "output_type": "execute_result"
    }
   ],
   "source": [
    "df = pd.read_csv('nations.csv', encoding='latin-1')\n",
    "df.columns"
   ]
  },
  {
   "cell_type": "code",
   "execution_count": 13,
   "metadata": {},
   "outputs": [
    {
     "data": {
      "text/html": [
       "<div>\n",
       "<style scoped>\n",
       "    .dataframe tbody tr th:only-of-type {\n",
       "        vertical-align: middle;\n",
       "    }\n",
       "\n",
       "    .dataframe tbody tr th {\n",
       "        vertical-align: top;\n",
       "    }\n",
       "\n",
       "    .dataframe thead th {\n",
       "        text-align: right;\n",
       "    }\n",
       "</style>\n",
       "<table border=\"1\" class=\"dataframe\">\n",
       "  <thead>\n",
       "    <tr style=\"text-align: right;\">\n",
       "      <th></th>\n",
       "      <th>country</th>\n",
       "      <th>region</th>\n",
       "      <th>gdp</th>\n",
       "      <th>school</th>\n",
       "      <th>adfert</th>\n",
       "      <th>chldmort</th>\n",
       "      <th>life</th>\n",
       "      <th>pop</th>\n",
       "      <th>urban</th>\n",
       "      <th>femlab</th>\n",
       "      <th>literacy</th>\n",
       "      <th>co2</th>\n",
       "      <th>gini</th>\n",
       "    </tr>\n",
       "  </thead>\n",
       "  <tbody>\n",
       "    <tr>\n",
       "      <th>0</th>\n",
       "      <td>Algeria</td>\n",
       "      <td>Africa</td>\n",
       "      <td>7300.399902</td>\n",
       "      <td>6.716667</td>\n",
       "      <td>7.300000</td>\n",
       "      <td>34.75</td>\n",
       "      <td>72.316666</td>\n",
       "      <td>34172236</td>\n",
       "      <td>64.933334</td>\n",
       "      <td>0.4522</td>\n",
       "      <td>72.599998</td>\n",
       "      <td>15.0</td>\n",
       "      <td>NaN</td>\n",
       "    </tr>\n",
       "    <tr>\n",
       "      <th>1</th>\n",
       "      <td>Benin</td>\n",
       "      <td>Africa</td>\n",
       "      <td>1338.800049</td>\n",
       "      <td>3.100000</td>\n",
       "      <td>111.699997</td>\n",
       "      <td>122.75</td>\n",
       "      <td>54.733334</td>\n",
       "      <td>8237634</td>\n",
       "      <td>41.000000</td>\n",
       "      <td>0.8482</td>\n",
       "      <td>41.700001</td>\n",
       "      <td>1.2</td>\n",
       "      <td>NaN</td>\n",
       "    </tr>\n",
       "    <tr>\n",
       "      <th>2</th>\n",
       "      <td>Botswana</td>\n",
       "      <td>Africa</td>\n",
       "      <td>12307.400391</td>\n",
       "      <td>8.600000</td>\n",
       "      <td>52.099998</td>\n",
       "      <td>60.25</td>\n",
       "      <td>52.250000</td>\n",
       "      <td>1941233</td>\n",
       "      <td>59.250000</td>\n",
       "      <td>0.8870</td>\n",
       "      <td>84.099998</td>\n",
       "      <td>9.2</td>\n",
       "      <td>NaN</td>\n",
       "    </tr>\n",
       "    <tr>\n",
       "      <th>3</th>\n",
       "      <td>Burkina Faso</td>\n",
       "      <td>Africa</td>\n",
       "      <td>1063.400024</td>\n",
       "      <td>1.300000</td>\n",
       "      <td>124.800003</td>\n",
       "      <td>170.50</td>\n",
       "      <td>53.783333</td>\n",
       "      <td>15308383</td>\n",
       "      <td>23.583334</td>\n",
       "      <td>0.8584</td>\n",
       "      <td>23.600000</td>\n",
       "      <td>0.2</td>\n",
       "      <td>NaN</td>\n",
       "    </tr>\n",
       "    <tr>\n",
       "      <th>4</th>\n",
       "      <td>Burundi</td>\n",
       "      <td>Africa</td>\n",
       "      <td>349.200012</td>\n",
       "      <td>2.483333</td>\n",
       "      <td>18.600000</td>\n",
       "      <td>168.50</td>\n",
       "      <td>48.866665</td>\n",
       "      <td>7821783</td>\n",
       "      <td>10.250000</td>\n",
       "      <td>1.0344</td>\n",
       "      <td>66.599998</td>\n",
       "      <td>0.1</td>\n",
       "      <td>33.299999</td>\n",
       "    </tr>\n",
       "  </tbody>\n",
       "</table>\n",
       "</div>"
      ],
      "text/plain": [
       "        country  region           gdp    school      adfert  chldmort  \\\n",
       "0       Algeria  Africa   7300.399902  6.716667    7.300000     34.75   \n",
       "1         Benin  Africa   1338.800049  3.100000  111.699997    122.75   \n",
       "2      Botswana  Africa  12307.400391  8.600000   52.099998     60.25   \n",
       "3  Burkina Faso  Africa   1063.400024  1.300000  124.800003    170.50   \n",
       "4       Burundi  Africa    349.200012  2.483333   18.600000    168.50   \n",
       "\n",
       "        life       pop      urban  femlab   literacy   co2       gini  \n",
       "0  72.316666  34172236  64.933334  0.4522  72.599998  15.0        NaN  \n",
       "1  54.733334   8237634  41.000000  0.8482  41.700001   1.2        NaN  \n",
       "2  52.250000   1941233  59.250000  0.8870  84.099998   9.2        NaN  \n",
       "3  53.783333  15308383  23.583334  0.8584  23.600000   0.2        NaN  \n",
       "4  48.866665   7821783  10.250000  1.0344  66.599998   0.1  33.299999  "
      ]
     },
     "execution_count": 13,
     "metadata": {},
     "output_type": "execute_result"
    }
   ],
   "source": [
    "df = df.drop(columns = ['Unnamed: 0'])\n",
    "df.head()"
   ]
  },
  {
   "cell_type": "code",
   "execution_count": 14,
   "metadata": {},
   "outputs": [
    {
     "data": {
      "text/plain": [
       "array(['Africa', 'Americas', 'Asia', 'Europe', 'Oceania'], dtype=object)"
      ]
     },
     "execution_count": 14,
     "metadata": {},
     "output_type": "execute_result"
    }
   ],
   "source": [
    "lista_region=df['region'].unique()\n",
    "lista_region"
   ]
  },
  {
   "cell_type": "code",
   "execution_count": 15,
   "metadata": {},
   "outputs": [
    {
     "data": {
      "text/html": [
       "<div>\n",
       "<style scoped>\n",
       "    .dataframe tbody tr th:only-of-type {\n",
       "        vertical-align: middle;\n",
       "    }\n",
       "\n",
       "    .dataframe tbody tr th {\n",
       "        vertical-align: top;\n",
       "    }\n",
       "\n",
       "    .dataframe thead th {\n",
       "        text-align: right;\n",
       "    }\n",
       "</style>\n",
       "<table border=\"1\" class=\"dataframe\">\n",
       "  <thead>\n",
       "    <tr style=\"text-align: right;\">\n",
       "      <th></th>\n",
       "      <th>country</th>\n",
       "      <th>region</th>\n",
       "      <th>gdp</th>\n",
       "      <th>school</th>\n",
       "      <th>adfert</th>\n",
       "      <th>chldmort</th>\n",
       "      <th>life</th>\n",
       "      <th>pop</th>\n",
       "      <th>urban</th>\n",
       "      <th>femlab</th>\n",
       "      <th>literacy</th>\n",
       "      <th>co2</th>\n",
       "      <th>gini</th>\n",
       "      <th>Africa</th>\n",
       "      <th>Europe</th>\n",
       "      <th>Oceania</th>\n",
       "      <th>Americas</th>\n",
       "      <th>Asia</th>\n",
       "    </tr>\n",
       "  </thead>\n",
       "  <tbody>\n",
       "    <tr>\n",
       "      <th>0</th>\n",
       "      <td>Algeria</td>\n",
       "      <td>Africa</td>\n",
       "      <td>7300.399902</td>\n",
       "      <td>6.716667</td>\n",
       "      <td>7.300000</td>\n",
       "      <td>34.75</td>\n",
       "      <td>72.316666</td>\n",
       "      <td>34172236</td>\n",
       "      <td>64.933334</td>\n",
       "      <td>0.4522</td>\n",
       "      <td>72.599998</td>\n",
       "      <td>15.0</td>\n",
       "      <td>NaN</td>\n",
       "      <td>1</td>\n",
       "      <td>0</td>\n",
       "      <td>0</td>\n",
       "      <td>0</td>\n",
       "      <td>0</td>\n",
       "    </tr>\n",
       "    <tr>\n",
       "      <th>1</th>\n",
       "      <td>Benin</td>\n",
       "      <td>Africa</td>\n",
       "      <td>1338.800049</td>\n",
       "      <td>3.100000</td>\n",
       "      <td>111.699997</td>\n",
       "      <td>122.75</td>\n",
       "      <td>54.733334</td>\n",
       "      <td>8237634</td>\n",
       "      <td>41.000000</td>\n",
       "      <td>0.8482</td>\n",
       "      <td>41.700001</td>\n",
       "      <td>1.2</td>\n",
       "      <td>NaN</td>\n",
       "      <td>1</td>\n",
       "      <td>0</td>\n",
       "      <td>0</td>\n",
       "      <td>0</td>\n",
       "      <td>0</td>\n",
       "    </tr>\n",
       "    <tr>\n",
       "      <th>2</th>\n",
       "      <td>Botswana</td>\n",
       "      <td>Africa</td>\n",
       "      <td>12307.400391</td>\n",
       "      <td>8.600000</td>\n",
       "      <td>52.099998</td>\n",
       "      <td>60.25</td>\n",
       "      <td>52.250000</td>\n",
       "      <td>1941233</td>\n",
       "      <td>59.250000</td>\n",
       "      <td>0.8870</td>\n",
       "      <td>84.099998</td>\n",
       "      <td>9.2</td>\n",
       "      <td>NaN</td>\n",
       "      <td>1</td>\n",
       "      <td>0</td>\n",
       "      <td>0</td>\n",
       "      <td>0</td>\n",
       "      <td>0</td>\n",
       "    </tr>\n",
       "    <tr>\n",
       "      <th>3</th>\n",
       "      <td>Burkina Faso</td>\n",
       "      <td>Africa</td>\n",
       "      <td>1063.400024</td>\n",
       "      <td>1.300000</td>\n",
       "      <td>124.800003</td>\n",
       "      <td>170.50</td>\n",
       "      <td>53.783333</td>\n",
       "      <td>15308383</td>\n",
       "      <td>23.583334</td>\n",
       "      <td>0.8584</td>\n",
       "      <td>23.600000</td>\n",
       "      <td>0.2</td>\n",
       "      <td>NaN</td>\n",
       "      <td>1</td>\n",
       "      <td>0</td>\n",
       "      <td>0</td>\n",
       "      <td>0</td>\n",
       "      <td>0</td>\n",
       "    </tr>\n",
       "    <tr>\n",
       "      <th>4</th>\n",
       "      <td>Burundi</td>\n",
       "      <td>Africa</td>\n",
       "      <td>349.200012</td>\n",
       "      <td>2.483333</td>\n",
       "      <td>18.600000</td>\n",
       "      <td>168.50</td>\n",
       "      <td>48.866665</td>\n",
       "      <td>7821783</td>\n",
       "      <td>10.250000</td>\n",
       "      <td>1.0344</td>\n",
       "      <td>66.599998</td>\n",
       "      <td>0.1</td>\n",
       "      <td>33.299999</td>\n",
       "      <td>1</td>\n",
       "      <td>0</td>\n",
       "      <td>0</td>\n",
       "      <td>0</td>\n",
       "      <td>0</td>\n",
       "    </tr>\n",
       "  </tbody>\n",
       "</table>\n",
       "</div>"
      ],
      "text/plain": [
       "        country  region           gdp    school      adfert  chldmort  \\\n",
       "0       Algeria  Africa   7300.399902  6.716667    7.300000     34.75   \n",
       "1         Benin  Africa   1338.800049  3.100000  111.699997    122.75   \n",
       "2      Botswana  Africa  12307.400391  8.600000   52.099998     60.25   \n",
       "3  Burkina Faso  Africa   1063.400024  1.300000  124.800003    170.50   \n",
       "4       Burundi  Africa    349.200012  2.483333   18.600000    168.50   \n",
       "\n",
       "        life       pop      urban  femlab   literacy   co2       gini  Africa  \\\n",
       "0  72.316666  34172236  64.933334  0.4522  72.599998  15.0        NaN       1   \n",
       "1  54.733334   8237634  41.000000  0.8482  41.700001   1.2        NaN       1   \n",
       "2  52.250000   1941233  59.250000  0.8870  84.099998   9.2        NaN       1   \n",
       "3  53.783333  15308383  23.583334  0.8584  23.600000   0.2        NaN       1   \n",
       "4  48.866665   7821783  10.250000  1.0344  66.599998   0.1  33.299999       1   \n",
       "\n",
       "   Europe  Oceania  Americas  Asia  \n",
       "0       0        0         0     0  \n",
       "1       0        0         0     0  \n",
       "2       0        0         0     0  \n",
       "3       0        0         0     0  \n",
       "4       0        0         0     0  "
      ]
     },
     "execution_count": 15,
     "metadata": {},
     "output_type": "execute_result"
    }
   ],
   "source": [
    "df['Africa']=np.where(df['region']=='Africa',1,0)\n",
    "df['Europe']=np.where(df['region']=='Europe',1,0)\n",
    "df['Oceania']=np.where(df['region']=='Oceania',1,0)\n",
    "df['Americas']=np.where(df['region']=='Americas',1,0)\n",
    "df['Asia']=np.where(df['region']=='Asia',1,0)\n",
    "df.head()"
   ]
  },
  {
   "cell_type": "code",
   "execution_count": 16,
   "metadata": {},
   "outputs": [
    {
     "data": {
      "text/plain": [
       "Index(['country', 'region', 'gdp', 'school', 'pop', 'urban', 'femlab',\n",
       "       'literacy', 'co2', 'gini', 'Africa', 'Americas', 'Asia', 'Europe',\n",
       "       'Oceania'],\n",
       "      dtype='object')"
      ]
     },
     "execution_count": 16,
     "metadata": {},
     "output_type": "execute_result"
    }
   ],
   "source": [
    "df_nz=df.loc[:,['country', 'region', 'gdp', 'school','pop', 'urban', 'femlab', 'literacy', 'co2','gini','Africa', 'Americas', 'Asia', 'Europe', 'Oceania']]\n",
    "lista_variables=df_nz.columns\n",
    "lista_variables"
   ]
  },
  {
   "cell_type": "markdown",
   "metadata": {},
   "source": [
    "## 3. Implemente una función de prueba de hipótesis a mano\n",
    "\n",
    "La función debe ingresar los siguientes argumentos:\n",
    "- df : La tabla de datos.\n",
    "- variable : La variable a analizar.\n",
    "- binarize : El indicador binario a utilizar.\n",
    "\n",
    "tips:\n",
    "Separe la variable en dos, utilizando el indicador binario. Recuerde eliminar los perdidos con dropna().\n",
    "\n",
    "- Implemente ttest_ind de scipy.stats y guarde el valor t y pval .\n",
    "- Reporte las medias para cada grupo (0 y 1).\n",
    "- Reporte la diferencia de entre las medias.\n",
    "- Reporte los valores t y p"
   ]
  },
  {
   "cell_type": "code",
   "execution_count": 17,
   "metadata": {},
   "outputs": [],
   "source": [
    "def prueba_hipotesis(df,variable,binarize):\n",
    "    tmp1=df[df[binarize]==0][variable].dropna()\n",
    "    tmp2=df[df[binarize]==1][variable].dropna()\n",
    "    valort,valorp=stats.ttest_ind(tmp1, tmp2)\n",
    "    mean1=tmp1.mean()\n",
    "    mean2=tmp2.mean()\n",
    "    dif=mean1-mean2\n",
    "    print('Para la variable ',variable,' y el continente ',binarize)\n",
    "    print('La media del grupo 0 es ', mean1, '\\nLa media del grupo 1 es ', mean2,'\\nLa diferencia entre las medias es ',dif)\n",
    "    print('El valor de p es ', valorp,'\\nEl valor de t es ',valort)\n",
    "    print()"
   ]
  },
  {
   "cell_type": "code",
   "execution_count": 18,
   "metadata": {},
   "outputs": [
    {
     "name": "stdout",
     "output_type": "stream",
     "text": [
      "Para la variable  femlab  y el continente  Africa\n",
      "La media del grupo 0 es  0.676101588186 \n",
      "La media del grupo 1 es  0.729909801016 \n",
      "La diferencia entre las medias es  -0.0538082128298\n",
      "El valor de p es  0.0761771840436 \n",
      "El valor de t es  -1.78387287827\n",
      "\n"
     ]
    }
   ],
   "source": [
    "prueba_hipotesis(df,'femlab','Africa')"
   ]
  },
  {
   "cell_type": "code",
   "execution_count": 19,
   "metadata": {},
   "outputs": [
    {
     "name": "stdout",
     "output_type": "stream",
     "text": [
      "Para la variable  femlab  y el continente  Africa\n",
      "La media del grupo 0 es  0.676101588186 \n",
      "La media del grupo 1 es  0.729909801016 \n",
      "La diferencia entre las medias es  -0.0538082128298\n",
      "El valor de p es  0.0761771840436 \n",
      "El valor de t es  -1.78387287827\n",
      "\n",
      "Para la variable  femlab  y el continente  Americas\n",
      "La media del grupo 0 es  0.700280820772 \n",
      "La media del grupo 1 es  0.650748391305 \n",
      "La diferencia entre las medias es  0.049532429467\n",
      "El valor de p es  0.17147454301 \n",
      "El valor de t es  1.37311134087\n",
      "\n",
      "Para la variable  femlab  y el continente  Asia\n",
      "La media del grupo 0 es  0.722342186375 \n",
      "La media del grupo 1 es  0.611314287903 \n",
      "La diferencia entre las medias es  0.111027898471\n",
      "El valor de p es  0.000244132575194 \n",
      "El valor de t es  3.74551965953\n",
      "\n",
      "Para la variable  femlab  y el continente  Europe\n",
      "La media del grupo 0 es  0.670455715592 \n",
      "La media del grupo 1 es  0.771632426494 \n",
      "La diferencia entre las medias es  -0.101176710901\n",
      "El valor de p es  0.00253356048345 \n",
      "El valor de t es  -3.06352376033\n",
      "\n",
      "Para la variable  femlab  y el continente  Oceania\n",
      "La media del grupo 0 es  0.689901189701 \n",
      "La media del grupo 1 es  0.723422232601 \n",
      "La diferencia entre las medias es  -0.0335210429002\n",
      "El valor de p es  0.593561944121 \n",
      "El valor de t es  -0.534662441226\n",
      "\n"
     ]
    }
   ],
   "source": [
    "for pais in lista_region:\n",
    "    prueba_hipotesis(df,'femlab',pais)"
   ]
  },
  {
   "cell_type": "code",
   "execution_count": 23,
   "metadata": {},
   "outputs": [
    {
     "name": "stdout",
     "output_type": "stream",
     "text": [
      "Para la variable  school  y el continente  Africa\n",
      "La media del grupo 0 es  8.5523114274 \n",
      "La media del grupo 1 es  4.5228758279 \n",
      "La diferencia entre las medias es  4.0294355995\n",
      "El valor de p es  2.63528304567e-20 \n",
      "El valor de t es  10.4158118318\n",
      "\n",
      "Para la variable  school  y el continente  Americas\n",
      "La media del grupo 0 es  7.3188453266 \n",
      "La media del grupo 1 es  8.07285708019 \n",
      "La diferencia entre las medias es  -0.754011753583\n",
      "El valor de p es  0.174584649868 \n",
      "El valor de t es  -1.36282717457\n",
      "\n",
      "Para la variable  school  y el continente  Asia\n",
      "La media del grupo 0 es  7.52714284658 \n",
      "La media del grupo 1 es  7.26111113032 \n",
      "La diferencia entre las medias es  0.266031716267\n",
      "El valor de p es  0.592331357865 \n",
      "El valor de t es  0.536387999652\n",
      "\n",
      "Para la variable  school  y el continente  Europe\n",
      "La media del grupo 0 es  6.63299320344 \n",
      "La media del grupo 1 es  10.4215446798 \n",
      "La diferencia entre las medias es  -3.78855147634\n",
      "El valor de p es  5.20910302336e-15 \n",
      "El valor de t es  -8.52434621773\n",
      "\n",
      "Para la variable  school  y el continente  Oceania\n",
      "La media del grupo 0 es  7.36590474946 \n",
      "La media del grupo 1 es  8.7153847401 \n",
      "La diferencia entre las medias es  -1.34947999063\n",
      "El valor de p es  0.112933837551 \n",
      "El valor de t es  -1.59266285896\n",
      "\n",
      "Para la variable  femlab  y el continente  Africa\n",
      "La media del grupo 0 es  0.676101588186 \n",
      "La media del grupo 1 es  0.729909801016 \n",
      "La diferencia entre las medias es  -0.0538082128298\n",
      "El valor de p es  0.0761771840436 \n",
      "El valor de t es  -1.78387287827\n",
      "\n",
      "Para la variable  femlab  y el continente  Americas\n",
      "La media del grupo 0 es  0.700280820772 \n",
      "La media del grupo 1 es  0.650748391305 \n",
      "La diferencia entre las medias es  0.049532429467\n",
      "El valor de p es  0.17147454301 \n",
      "El valor de t es  1.37311134087\n",
      "\n",
      "Para la variable  femlab  y el continente  Asia\n",
      "La media del grupo 0 es  0.722342186375 \n",
      "La media del grupo 1 es  0.611314287903 \n",
      "La diferencia entre las medias es  0.111027898471\n",
      "El valor de p es  0.000244132575194 \n",
      "El valor de t es  3.74551965953\n",
      "\n",
      "Para la variable  femlab  y el continente  Europe\n",
      "La media del grupo 0 es  0.670455715592 \n",
      "La media del grupo 1 es  0.771632426494 \n",
      "La diferencia entre las medias es  -0.101176710901\n",
      "El valor de p es  0.00253356048345 \n",
      "El valor de t es  -3.06352376033\n",
      "\n",
      "Para la variable  femlab  y el continente  Oceania\n",
      "La media del grupo 0 es  0.689901189701 \n",
      "La media del grupo 1 es  0.723422232601 \n",
      "La diferencia entre las medias es  -0.0335210429002\n",
      "El valor de p es  0.593561944121 \n",
      "El valor de t es  -0.534662441226\n",
      "\n",
      "Para la variable  literacy  y el continente  Africa\n",
      "La media del grupo 0 es  90.1985793547 \n",
      "La media del grupo 1 es  65.3085106789 \n",
      "La diferencia entre las medias es  24.8900686758\n",
      "El valor de p es  3.38571121565e-15 \n",
      "El valor de t es  8.90999117387\n",
      "\n",
      "Para la variable  literacy  y el continente  Americas\n",
      "La media del grupo 0 es  80.1821738036 \n",
      "La media del grupo 1 es  89.3012498856 \n",
      "La diferencia entre las medias es  -9.11907608198\n",
      "El valor de p es  0.052822970255 \n",
      "El valor de t es  -1.95380554955\n",
      "\n",
      "Para la variable  literacy  y el continente  Asia\n",
      "La media del grupo 0 es  78.9928191773 \n",
      "La media del grupo 1 es  87.3573166452 \n",
      "La diferencia entre las medias es  -8.36449746784\n",
      "El valor de p es  0.0211144607733 \n",
      "El valor de t es  -2.3336279461\n",
      "\n",
      "Para la variable  literacy  y el continente  Europe\n",
      "La media del grupo 0 es  78.2926989699 \n",
      "La media del grupo 1 es  98.1772727966 \n",
      "La diferencia entre las medias es  -19.8845738267\n",
      "El valor de p es  5.93560876587e-06 \n",
      "El valor de t es  -4.71843149821\n",
      "\n",
      "Para la variable  literacy  y el continente  Oceania\n",
      "La media del grupo 0 es  81.5159614123 \n",
      "La media del grupo 1 es  81.9800003052 \n",
      "La diferencia entre las medias es  -0.464038892893\n",
      "El valor de p es  0.958517681732 \n",
      "El valor de t es  -0.0521119469789\n",
      "\n"
     ]
    },
    {
     "data": {
      "image/png": "[encoded data removed]",
      "text/plain": [
       "<Figure size 432x288 with 2 Axes>"
      ]
     },
     "metadata": {},
     "output_type": "display_data"
    }
   ],
   "source": [
    "lista=['school','femlab', 'literacy']\n",
    "for var1 in lista:\n",
    "    for region in lista_region:\n",
    "        prueba_hipotesis(df,var1,region)\n",
    "        funcion_grafico(df,var1,region)"
   ]
  },
  {
   "cell_type": "markdown",
   "metadata": {},
   "source": [
    "## 4. Implemente una función que grafique los histogramas para ambas muestras.\n",
    "\n",
    "- Genere una función que devuelva un gráfico donde visualice las dos histogramas cuando la variable es 1 y 0, respectivamente.\n",
    "\n",
    "tips: Refactorize la función incluyendo el método hist de matplotlib.pyplot .\n",
    "\n",
    "- Incluya los argumentos alpha y label .\n",
    "- Para las tres variables de interés acorde a su grupo, analice las diferencias de medias por cada continente, y posteriormente grafique. Concluya con los principales resultados al respecto"
   ]
  },
  {
   "cell_type": "code",
   "execution_count": 22,
   "metadata": {},
   "outputs": [],
   "source": [
    "def funcion_grafico(df,variable,binarize):\n",
    "    tmp1=df[df[binarize]==0][variable].dropna()\n",
    "    tmp2=df[df[binarize]==1][variable].dropna()\n",
    "    #Gráfico 1\n",
    "    plt.subplot(1, 2, 1)\n",
    "    plt.hist(tmp1, alpha=.6, color='lightgrey')\n",
    "    plt.axvline(np.mean(tmp1))\n",
    "    plt.title(\"Grupo 0\".format(variable, round(np.mean(tmp1), 3)))\n",
    "    \n",
    "    #Gráfico 2\n",
    "    plt.subplot(1, 2, 2)\n",
    "    plt.hist(tmp2, alpha=.6, color='lightgrey',label = 'hola2')\n",
    "    plt.axvline(np.mean(tmp2))\n",
    "    '''    plt.ylabel(str(variable))\n",
    "    plt.xlabel(str(binarize))'''\n",
    "    plt.title(\"Grupo 1\".format(variable, round(np.mean(tmp2), 3)))\n",
    "    return"
   ]
  },
  {
   "cell_type": "code",
   "execution_count": 24,
   "metadata": {},
   "outputs": [
    {
     "data": {
      "image/png": "[encoded data removed]",
      "text/plain": [
       "<Figure size 432x288 with 2 Axes>"
      ]
     },
     "metadata": {},
     "output_type": "display_data"
    }
   ],
   "source": [
    "funcion_grafico(df,'literacy','Africa')"
   ]
  },
  {
   "cell_type": "code",
   "execution_count": 27,
   "metadata": {},
   "outputs": [
    {
     "data": {
      "image/png": "[encoded data removed]",
      "text/plain": [
       "<Figure size 432x288 with 2 Axes>"
      ]
     },
     "metadata": {},
     "output_type": "display_data"
    }
   ],
   "source": [
    "for pais in lista_region:\n",
    "    funcion_graficorefactor(df,'femlab',pais)"
   ]
  },
  {
   "cell_type": "code",
   "execution_count": 26,
   "metadata": {},
   "outputs": [],
   "source": [
    "def funcion_graficorefactor(df,variable,binarize):\n",
    "   \n",
    "        tmp1=df[df[binarize]==0][variable].dropna()\n",
    "        tmp2=df[df[binarize]==1][variable].dropna()\n",
    "        \n",
    "        #Gráfico 1\n",
    "        plt.subplot(1, 2, 1)\n",
    "        plt.hist(tmp1, alpha=.6, color='lightgrey')\n",
    "        plt.axvline(np.mean(tmp1))\n",
    "        plt.title(\"Grupo 0\".format(variable, round(np.mean(tmp1), 3)))\n",
    "        #Gráfico 2\n",
    "        plt.subplot(1, 2, 2)\n",
    "        plt.hist(tmp2, alpha=.6, color='lightgrey',label = 'hola2')\n",
    "        plt.axvline(np.mean(tmp2))\n",
    "        '''    plt.ylabel(str(variable))\n",
    "        plt.xlabel(str(binarize))'''\n",
    "        plt.title(\"Grupo 1\".format(variable, round(np.mean(tmp2), 3)))\n",
    "        return"
   ]
  },
  {
   "cell_type": "code",
   "execution_count": null,
   "metadata": {},
   "outputs": [],
   "source": []
  },
  {
   "cell_type": "code",
   "execution_count": null,
   "metadata": {},
   "outputs": [],
   "source": []
  }
 ],
 "metadata": {
  "hide_input": false,
  "kernelspec": {
   "display_name": "Python 3",
   "language": "python",
   "name": "python3"
  },
  "language_info": {
   "codemirror_mode": {
    "name": "ipython",
    "version": 3
   },
   "file_extension": ".py",
   "mimetype": "text/x-python",
   "name": "python",
   "nbconvert_exporter": "python",
   "pygments_lexer": "ipython3",
   "version": "3.6.6"
  },
  "toc": {
   "base_numbering": 1,
   "nav_menu": {},
   "number_sections": true,
   "sideBar": true,
   "skip_h1_title": false,
   "title_cell": "Table of Contents",
   "title_sidebar": "Contents",
   "toc_cell": false,
   "toc_position": {},
   "toc_section_display": true,
   "toc_window_display": false
  },
  "varInspector": {
   "cols": {
    "lenName": 16,
    "lenType": 16,
    "lenVar": 40
   },
   "kernels_config": {
    "python": {
     "delete_cmd_postfix": "",
     "delete_cmd_prefix": "del ",
     "library": "var_list.py",
     "varRefreshCmd": "print(var_dic_list())"
    },
    "r": {
     "delete_cmd_postfix": ") ",
     "delete_cmd_prefix": "rm(",
     "library": "var_list.r",
     "varRefreshCmd": "cat(var_dic_list()) "
    }
   },
   "types_to_exclude": [
    "module",
    "function",
    "builtin_function_or_method",
    "instance",
    "_Feature"
   ],
   "window_display": false
  }
 },
 "nbformat": 4,
 "nbformat_minor": 2
}
